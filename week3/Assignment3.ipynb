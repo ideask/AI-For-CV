{
 "cells": [
  {
   "cell_type": "markdown",
   "metadata": {},
   "source": [
    "竖直位移：$f(\\alpha) = (V_n + V\\times\\sin\\alpha) \\times T$ \n",
    "\n",
    "水平位移：$g(\\alpha) =  V\\times\\cos\\alpha \\times T$ \n",
    "\n",
    "拉格朗日乘子式：$L(\\alpha,\\lambda) = f(\\alpha) + \\lambda g(\\alpha)$"
   ]
  }
 ],
 "metadata": {
  "kernelspec": {
   "display_name": "Python 3",
   "language": "python",
   "name": "python3"
  },
  "language_info": {
   "codemirror_mode": {
    "name": "ipython",
    "version": 3
   },
   "file_extension": ".py",
   "mimetype": "text/x-python",
   "name": "python",
   "nbconvert_exporter": "python",
   "pygments_lexer": "ipython3",
   "version": "3.7.3"
  }
 },
 "nbformat": 4,
 "nbformat_minor": 2
}
